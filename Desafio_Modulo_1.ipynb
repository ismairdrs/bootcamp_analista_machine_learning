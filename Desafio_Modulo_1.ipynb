{
  "nbformat": 4,
  "nbformat_minor": 0,
  "metadata": {
    "colab": {
      "name": "Desafio_Modulo_1.ipynb",
      "provenance": [],
      "authorship_tag": "ABX9TyNwQrSfcRDdsaUGiBn2T0s8",
      "include_colab_link": true
    },
    "kernelspec": {
      "name": "python3",
      "display_name": "Python 3"
    }
  },
  "cells": [
    {
      "cell_type": "markdown",
      "metadata": {
        "id": "view-in-github",
        "colab_type": "text"
      },
      "source": [
        "<a href=\"https://colab.research.google.com/github/ismairdrs/bootcamp_analista_machine_learning/blob/main/Desafio_Modulo_1.ipynb\" target=\"_parent\"><img src=\"https://colab.research.google.com/assets/colab-badge.svg\" alt=\"Open In Colab\"/></a>"
      ]
    },
    {
      "cell_type": "code",
      "metadata": {
        "id": "qOuSmxWPjSbk"
      },
      "source": [
        "import pandas as pd\n",
        "import numpy\n",
        "import matplotlib.pyplot as plt"
      ],
      "execution_count": 1,
      "outputs": []
    },
    {
      "cell_type": "code",
      "metadata": {
        "colab": {
          "resources": {
            "http://localhost:8080/nbextensions/google.colab/files.js": {
              "data": "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",
              "ok": true,
              "headers": [
                [
                  "content-type",
                  "application/javascript"
                ]
              ],
              "status": 200,
              "status_text": ""
            }
          },
          "base_uri": "https://localhost:8080/",
          "height": 72
        },
        "id": "YI4O68ExjbxF",
        "outputId": "eb077e1f-dc7c-4708-ab67-f4c6b9bfad92"
      },
      "source": [
        "from google.colab import files\n",
        "uploaded = files.upload()"
      ],
      "execution_count": 2,
      "outputs": [
        {
          "output_type": "display_data",
          "data": {
            "text/html": [
              "\n",
              "     <input type=\"file\" id=\"files-7c73868b-7202-4fa1-befb-156ef4b08f44\" name=\"files[]\" multiple disabled\n",
              "        style=\"border:none\" />\n",
              "     <output id=\"result-7c73868b-7202-4fa1-befb-156ef4b08f44\">\n",
              "      Upload widget is only available when the cell has been executed in the\n",
              "      current browser session. Please rerun this cell to enable.\n",
              "      </output>\n",
              "      <script src=\"/nbextensions/google.colab/files.js\"></script> "
            ],
            "text/plain": [
              "<IPython.core.display.HTML object>"
            ]
          },
          "metadata": {
            "tags": []
          }
        },
        {
          "output_type": "stream",
          "text": [
            "Saving comp_bikes_mod.csv to comp_bikes_mod.csv\n"
          ],
          "name": "stdout"
        }
      ]
    },
    {
      "cell_type": "code",
      "metadata": {
        "id": "2y2vsrR5jjU8"
      },
      "source": [
        "nome_do_arquivo='comp_bikes_mod.csv'\n",
        "dataframe = pd.read_csv(nome_do_arquivo)"
      ],
      "execution_count": 82,
      "outputs": []
    },
    {
      "cell_type": "code",
      "metadata": {
        "colab": {
          "base_uri": "https://localhost:8080/"
        },
        "id": "lnckzNWDjyI8",
        "outputId": "29484feb-1d6d-49bc-9ef7-36c0a1826015"
      },
      "source": [
        "#No dataset utilizado para o desafio, quantas instâncias e atributos existem, respectivamente?\n",
        "dataframe.shape "
      ],
      "execution_count": 83,
      "outputs": [
        {
          "output_type": "execute_result",
          "data": {
            "text/plain": [
              "(17379, 17)"
            ]
          },
          "metadata": {
            "tags": []
          },
          "execution_count": 83
        }
      ]
    },
    {
      "cell_type": "code",
      "metadata": {
        "colab": {
          "base_uri": "https://localhost:8080/"
        },
        "id": "3BmOE4e_j5At",
        "outputId": "acd895e4-f62c-4b5b-ee2a-94b97e19283b"
      },
      "source": [
        "#Quantos tipos diferentes de dados existem no dataset do desafio?\n",
        "dataframe.info() # 2 tipos, float64 e object"
      ],
      "execution_count": 84,
      "outputs": [
        {
          "output_type": "stream",
          "text": [
            "<class 'pandas.core.frame.DataFrame'>\n",
            "RangeIndex: 17379 entries, 0 to 17378\n",
            "Data columns (total 17 columns):\n",
            " #   Column      Non-Null Count  Dtype  \n",
            "---  ------      --------------  -----  \n",
            " 0   instant     15641 non-null  float64\n",
            " 1   dteday      15641 non-null  object \n",
            " 2   season      15641 non-null  float64\n",
            " 3   yr          15641 non-null  float64\n",
            " 4   mnth        15641 non-null  float64\n",
            " 5   hr          15641 non-null  float64\n",
            " 6   holiday     15641 non-null  float64\n",
            " 7   weekday     15641 non-null  float64\n",
            " 8   workingday  15641 non-null  float64\n",
            " 9   weathersit  15641 non-null  float64\n",
            " 10  temp        15641 non-null  float64\n",
            " 11  atemp       15641 non-null  float64\n",
            " 12  hum         15641 non-null  float64\n",
            " 13  windspeed   15641 non-null  float64\n",
            " 14  casual      15641 non-null  float64\n",
            " 15  registered  15641 non-null  float64\n",
            " 16  cnt         15641 non-null  float64\n",
            "dtypes: float64(16), object(1)\n",
            "memory usage: 2.3+ MB\n"
          ],
          "name": "stdout"
        }
      ]
    },
    {
      "cell_type": "code",
      "metadata": {
        "colab": {
          "base_uri": "https://localhost:8080/"
        },
        "id": "3K0o1BYTkP8G",
        "outputId": "e72e5093-1d93-42d2-bd5e-147fdd9e1f56"
      },
      "source": [
        "#Qual é a proporção (em %) de valores nulos existente na coluna \"temp\" (temperatura ambiente normalizada)?\n",
        "print(f'Total de linhas nulas para temp: {dataframe[\"temp\"].isnull().sum()}')\n",
        "print(f'Total de linhas no dataset: {len(dataframe.index)}')\n",
        "print(f'% de nulos de temp: {dataframe[\"temp\"].isnull().sum()/len(dataframe.index)}')"
      ],
      "execution_count": 85,
      "outputs": [
        {
          "output_type": "stream",
          "text": [
            "Total de linhas nulas para temp: 1738\n",
            "Total de linhas no dataset: 17379\n",
            "% de nulos de temp: 0.10000575407100523\n"
          ],
          "name": "stdout"
        }
      ]
    },
    {
      "cell_type": "code",
      "metadata": {
        "colab": {
          "base_uri": "https://localhost:8080/"
        },
        "id": "oFaSqplSlVVn",
        "outputId": "79f704f8-57f8-4fac-82d4-a9c19ae4d169"
      },
      "source": [
        "#Após retirar as linhas que contém valores nulos para a coluna \"dteday\", passamos a contar com quantas instancias e atributos, respectivamente?\n",
        "dataframe = dataframe[dataframe['dteday'].notna()]\n",
        "dataframe.shape"
      ],
      "execution_count": 89,
      "outputs": [
        {
          "output_type": "execute_result",
          "data": {
            "text/plain": [
              "(15641, 17)"
            ]
          },
          "metadata": {
            "tags": []
          },
          "execution_count": 89
        }
      ]
    },
    {
      "cell_type": "code",
      "metadata": {
        "colab": {
          "base_uri": "https://localhost:8080/"
        },
        "id": "KUViTiE0qqMN",
        "outputId": "13fedeef-eaf7-4f5b-d997-6e908ef670ef"
      },
      "source": [
        "#Considere o dataset após a retirada das linhas que continham valores nulos para a coluna \"dteday\". Qual é o valor médio para os dados da coluna \"temp\" (temperatura ambiente normalizada)?\n",
        "dataframe['temp'].mean()"
      ],
      "execution_count": 93,
      "outputs": [
        {
          "output_type": "execute_result",
          "data": {
            "text/plain": [
              "0.4969259206597582"
            ]
          },
          "metadata": {
            "tags": []
          },
          "execution_count": 93
        }
      ]
    },
    {
      "cell_type": "code",
      "metadata": {
        "colab": {
          "base_uri": "https://localhost:8080/"
        },
        "id": "R7Tqn2qZuk4l",
        "outputId": "f5c29cdc-c5e1-4c71-9b9f-8b22c5cbbb89"
      },
      "source": [
        "#Considere o dataset após a retirada das linhas que continham valores nulos para a coluna \"dteday\". Qual é o desvio padrão para os dados da coluna \"windspeed\" (velocidade do vento normalizada)?\n",
        "dataframe['windspeed'].std()"
      ],
      "execution_count": 95,
      "outputs": [
        {
          "output_type": "execute_result",
          "data": {
            "text/plain": [
              "0.12230930508286268"
            ]
          },
          "metadata": {
            "tags": []
          },
          "execution_count": 95
        }
      ]
    },
    {
      "cell_type": "code",
      "metadata": {
        "colab": {
          "base_uri": "https://localhost:8080/"
        },
        "id": "Wehgd5SxvHzl",
        "outputId": "b7fd0d75-1573-4e7a-bdbd-e08874a1f954"
      },
      "source": [
        "#Considere o dataset após a retirada das linhas que continham valores nulos para a coluna \"dteday\". Transforme a coluna \"season\" em valores categóricos. Quantas categorias diferentes existem?\n",
        "print(len(dataframe['season'].value_counts()))"
      ],
      "execution_count": 100,
      "outputs": [
        {
          "output_type": "stream",
          "text": [
            "4\n"
          ],
          "name": "stdout"
        }
      ]
    },
    {
      "cell_type": "code",
      "metadata": {
        "colab": {
          "base_uri": "https://localhost:8080/",
          "height": 80
        },
        "id": "Yc1f8hPD4gLF",
        "outputId": "2d3e31fc-1f9f-4dec-9fe3-ed8dc5d8178d"
      },
      "source": [
        "#Considere o dataset após a retirada das linhas que continham valores nulos para a coluna \"dteday\". Transforme a coluna \"dteday\" no tipo \"datetime\". Qual é a última data presente no dataset ( YYYY-MM-DD)?\n",
        "dataframe.dteday = dataframe.dteday.apply(pd.to_datetime)\n",
        "dataframe.tail(1)"
      ],
      "execution_count": 105,
      "outputs": [
        {
          "output_type": "execute_result",
          "data": {
            "text/html": [
              "<div>\n",
              "<style scoped>\n",
              "    .dataframe tbody tr th:only-of-type {\n",
              "        vertical-align: middle;\n",
              "    }\n",
              "\n",
              "    .dataframe tbody tr th {\n",
              "        vertical-align: top;\n",
              "    }\n",
              "\n",
              "    .dataframe thead th {\n",
              "        text-align: right;\n",
              "    }\n",
              "</style>\n",
              "<table border=\"1\" class=\"dataframe\">\n",
              "  <thead>\n",
              "    <tr style=\"text-align: right;\">\n",
              "      <th></th>\n",
              "      <th>instant</th>\n",
              "      <th>dteday</th>\n",
              "      <th>season</th>\n",
              "      <th>yr</th>\n",
              "      <th>mnth</th>\n",
              "      <th>hr</th>\n",
              "      <th>holiday</th>\n",
              "      <th>weekday</th>\n",
              "      <th>workingday</th>\n",
              "      <th>weathersit</th>\n",
              "      <th>temp</th>\n",
              "      <th>atemp</th>\n",
              "      <th>hum</th>\n",
              "      <th>windspeed</th>\n",
              "      <th>casual</th>\n",
              "      <th>registered</th>\n",
              "      <th>cnt</th>\n",
              "    </tr>\n",
              "  </thead>\n",
              "  <tbody>\n",
              "    <tr>\n",
              "      <th>17378</th>\n",
              "      <td>NaN</td>\n",
              "      <td>2012-12-31</td>\n",
              "      <td>NaN</td>\n",
              "      <td>1.0</td>\n",
              "      <td>NaN</td>\n",
              "      <td>23.0</td>\n",
              "      <td>0.0</td>\n",
              "      <td>1.0</td>\n",
              "      <td>1.0</td>\n",
              "      <td>1.0</td>\n",
              "      <td>NaN</td>\n",
              "      <td>0.2727</td>\n",
              "      <td>0.65</td>\n",
              "      <td>0.1343</td>\n",
              "      <td>12.0</td>\n",
              "      <td>37.0</td>\n",
              "      <td>49.0</td>\n",
              "    </tr>\n",
              "  </tbody>\n",
              "</table>\n",
              "</div>"
            ],
            "text/plain": [
              "       instant     dteday  season   yr  ...  windspeed  casual  registered   cnt\n",
              "17378      NaN 2012-12-31     NaN  1.0  ...     0.1343    12.0        37.0  49.0\n",
              "\n",
              "[1 rows x 17 columns]"
            ]
          },
          "metadata": {
            "tags": []
          },
          "execution_count": 105
        }
      ]
    },
    {
      "cell_type": "code",
      "metadata": {
        "colab": {
          "base_uri": "https://localhost:8080/",
          "height": 282
        },
        "id": "K1hV3ssv6aiY",
        "outputId": "de791d6f-fc22-48d0-b399-4412fd6261bd"
      },
      "source": [
        "#Considere o dataset após a retirada das linhas que continham valores nulos para a coluna \"dteday\". Considerando o boxplot da variável \"windspeed\" (velocidade do vento), é CORRETO afirmar:\n",
        "dataframe.boxplot(column='windspeed')\n",
        "#Existem possíveis outliers, pois existem marcações (pontos) foras dos limites do boxplot."
      ],
      "execution_count": 111,
      "outputs": [
        {
          "output_type": "execute_result",
          "data": {
            "text/plain": [
              "<matplotlib.axes._subplots.AxesSubplot at 0x7f3af0515908>"
            ]
          },
          "metadata": {
            "tags": []
          },
          "execution_count": 111
        },
        {
          "output_type": "display_data",
          "data": {
            "image/png": "[encoded data removed]",
            "text/plain": [
              "<Figure size 432x288 with 1 Axes>"
            ]
          },
          "metadata": {
            "tags": [],
            "needs_background": "light"
          }
        }
      ]
    },
    {
      "cell_type": "code",
      "metadata": {
        "colab": {
          "base_uri": "https://localhost:8080/",
          "height": 166
        },
        "id": "p6DsVYHP7X0O",
        "outputId": "36f7bc69-a9f7-41eb-a230-1dd0ee8129ef"
      },
      "source": [
        "#Considere o dataset após a retirada das linhas que continham valores nulos para a coluna \"dteday\". Selecione as colunas \"season\", \"temp\", \"atemp\", \"hum\", \"windspeed\". Plot a matriz de correlação. Sobre as variáveis \"hum\" e \"cnt\",\n",
        "corr = dataset[[\"cnt\", \"hum\",\"season\", \"temp\", \"atemp\", \"windspeed\"]].corr()\n",
        "corr.style.background_gradient(cmap=plt.get_cmap('PuRd'))"
      ],
      "execution_count": 121,
      "outputs": [
        {
          "output_type": "execute_result",
          "data": {
            "text/html": [
              "<style  type=\"text/css\" >\n",
              "#T_8cc6f09c_3264_11eb_8229_0242ac1c0002row0_col0,#T_8cc6f09c_3264_11eb_8229_0242ac1c0002row1_col1,#T_8cc6f09c_3264_11eb_8229_0242ac1c0002row2_col2,#T_8cc6f09c_3264_11eb_8229_0242ac1c0002row3_col3,#T_8cc6f09c_3264_11eb_8229_0242ac1c0002row4_col4,#T_8cc6f09c_3264_11eb_8229_0242ac1c0002row5_col5{\n",
              "            background-color:  #67001f;\n",
              "            color:  #f1f1f1;\n",
              "        }#T_8cc6f09c_3264_11eb_8229_0242ac1c0002row0_col1,#T_8cc6f09c_3264_11eb_8229_0242ac1c0002row1_col0,#T_8cc6f09c_3264_11eb_8229_0242ac1c0002row1_col3,#T_8cc6f09c_3264_11eb_8229_0242ac1c0002row1_col4,#T_8cc6f09c_3264_11eb_8229_0242ac1c0002row1_col5,#T_8cc6f09c_3264_11eb_8229_0242ac1c0002row5_col2,#T_8cc6f09c_3264_11eb_8229_0242ac1c0002row5_col4{\n",
              "            background-color:  #f7f4f9;\n",
              "            color:  #000000;\n",
              "        }#T_8cc6f09c_3264_11eb_8229_0242ac1c0002row0_col2{\n",
              "            background-color:  #d1b1d6;\n",
              "            color:  #000000;\n",
              "        }#T_8cc6f09c_3264_11eb_8229_0242ac1c0002row0_col3{\n",
              "            background-color:  #d679ba;\n",
              "            color:  #000000;\n",
              "        }#T_8cc6f09c_3264_11eb_8229_0242ac1c0002row0_col4{\n",
              "            background-color:  #d47dbc;\n",
              "            color:  #000000;\n",
              "        }#T_8cc6f09c_3264_11eb_8229_0242ac1c0002row0_col5{\n",
              "            background-color:  #d0abd3;\n",
              "            color:  #000000;\n",
              "        }#T_8cc6f09c_3264_11eb_8229_0242ac1c0002row1_col2{\n",
              "            background-color:  #d3b6d9;\n",
              "            color:  #000000;\n",
              "        }#T_8cc6f09c_3264_11eb_8229_0242ac1c0002row2_col0{\n",
              "            background-color:  #c993c7;\n",
              "            color:  #000000;\n",
              "        }#T_8cc6f09c_3264_11eb_8229_0242ac1c0002row2_col1{\n",
              "            background-color:  #cb99ca;\n",
              "            color:  #000000;\n",
              "        }#T_8cc6f09c_3264_11eb_8229_0242ac1c0002row2_col3,#T_8cc6f09c_3264_11eb_8229_0242ac1c0002row2_col4{\n",
              "            background-color:  #cb9bca;\n",
              "            color:  #000000;\n",
              "        }#T_8cc6f09c_3264_11eb_8229_0242ac1c0002row2_col5{\n",
              "            background-color:  #e9e3f0;\n",
              "            color:  #000000;\n",
              "        }#T_8cc6f09c_3264_11eb_8229_0242ac1c0002row3_col0{\n",
              "            background-color:  #e24ca0;\n",
              "            color:  #000000;\n",
              "        }#T_8cc6f09c_3264_11eb_8229_0242ac1c0002row3_col1{\n",
              "            background-color:  #ddcce4;\n",
              "            color:  #000000;\n",
              "        }#T_8cc6f09c_3264_11eb_8229_0242ac1c0002row3_col2{\n",
              "            background-color:  #cd8bc2;\n",
              "            color:  #000000;\n",
              "        }#T_8cc6f09c_3264_11eb_8229_0242ac1c0002row3_col4,#T_8cc6f09c_3264_11eb_8229_0242ac1c0002row4_col3{\n",
              "            background-color:  #6a0021;\n",
              "            color:  #f1f1f1;\n",
              "        }#T_8cc6f09c_3264_11eb_8229_0242ac1c0002row3_col5{\n",
              "            background-color:  #dac5e0;\n",
              "            color:  #000000;\n",
              "        }#T_8cc6f09c_3264_11eb_8229_0242ac1c0002row4_col0{\n",
              "            background-color:  #e24da1;\n",
              "            color:  #000000;\n",
              "        }#T_8cc6f09c_3264_11eb_8229_0242ac1c0002row4_col1{\n",
              "            background-color:  #dbc8e2;\n",
              "            color:  #000000;\n",
              "        }#T_8cc6f09c_3264_11eb_8229_0242ac1c0002row4_col2{\n",
              "            background-color:  #ce89c2;\n",
              "            color:  #000000;\n",
              "        }#T_8cc6f09c_3264_11eb_8229_0242ac1c0002row4_col5{\n",
              "            background-color:  #dfcfe6;\n",
              "            color:  #000000;\n",
              "        }#T_8cc6f09c_3264_11eb_8229_0242ac1c0002row5_col0{\n",
              "            background-color:  #cea6d0;\n",
              "            color:  #000000;\n",
              "        }#T_8cc6f09c_3264_11eb_8229_0242ac1c0002row5_col1{\n",
              "            background-color:  #f4f0f7;\n",
              "            color:  #000000;\n",
              "        }#T_8cc6f09c_3264_11eb_8229_0242ac1c0002row5_col3{\n",
              "            background-color:  #f1edf5;\n",
              "            color:  #000000;\n",
              "        }</style><table id=\"T_8cc6f09c_3264_11eb_8229_0242ac1c0002\" ><thead>    <tr>        <th class=\"blank level0\" ></th>        <th class=\"col_heading level0 col0\" >cnt</th>        <th class=\"col_heading level0 col1\" >hum</th>        <th class=\"col_heading level0 col2\" >season</th>        <th class=\"col_heading level0 col3\" >temp</th>        <th class=\"col_heading level0 col4\" >atemp</th>        <th class=\"col_heading level0 col5\" >windspeed</th>    </tr></thead><tbody>\n",
              "                <tr>\n",
              "                        <th id=\"T_8cc6f09c_3264_11eb_8229_0242ac1c0002level0_row0\" class=\"row_heading level0 row0\" >cnt</th>\n",
              "                        <td id=\"T_8cc6f09c_3264_11eb_8229_0242ac1c0002row0_col0\" class=\"data row0 col0\" >1.000000</td>\n",
              "                        <td id=\"T_8cc6f09c_3264_11eb_8229_0242ac1c0002row0_col1\" class=\"data row0 col1\" >-0.323834</td>\n",
              "                        <td id=\"T_8cc6f09c_3264_11eb_8229_0242ac1c0002row0_col2\" class=\"data row0 col2\" >0.173586</td>\n",
              "                        <td id=\"T_8cc6f09c_3264_11eb_8229_0242ac1c0002row0_col3\" class=\"data row0 col3\" >0.408528</td>\n",
              "                        <td id=\"T_8cc6f09c_3264_11eb_8229_0242ac1c0002row0_col4\" class=\"data row0 col4\" >0.404709</td>\n",
              "                        <td id=\"T_8cc6f09c_3264_11eb_8229_0242ac1c0002row0_col5\" class=\"data row0 col5\" >0.093503</td>\n",
              "            </tr>\n",
              "            <tr>\n",
              "                        <th id=\"T_8cc6f09c_3264_11eb_8229_0242ac1c0002level0_row1\" class=\"row_heading level0 row1\" >hum</th>\n",
              "                        <td id=\"T_8cc6f09c_3264_11eb_8229_0242ac1c0002row1_col0\" class=\"data row1 col0\" >-0.323834</td>\n",
              "                        <td id=\"T_8cc6f09c_3264_11eb_8229_0242ac1c0002row1_col1\" class=\"data row1 col1\" >1.000000</td>\n",
              "                        <td id=\"T_8cc6f09c_3264_11eb_8229_0242ac1c0002row1_col2\" class=\"data row1 col2\" >0.149990</td>\n",
              "                        <td id=\"T_8cc6f09c_3264_11eb_8229_0242ac1c0002row1_col3\" class=\"data row1 col3\" >-0.066523</td>\n",
              "                        <td id=\"T_8cc6f09c_3264_11eb_8229_0242ac1c0002row1_col4\" class=\"data row1 col4\" >-0.052469</td>\n",
              "                        <td id=\"T_8cc6f09c_3264_11eb_8229_0242ac1c0002row1_col5\" class=\"data row1 col5\" >-0.292366</td>\n",
              "            </tr>\n",
              "            <tr>\n",
              "                        <th id=\"T_8cc6f09c_3264_11eb_8229_0242ac1c0002level0_row2\" class=\"row_heading level0 row2\" >season</th>\n",
              "                        <td id=\"T_8cc6f09c_3264_11eb_8229_0242ac1c0002row2_col0\" class=\"data row2 col0\" >0.173586</td>\n",
              "                        <td id=\"T_8cc6f09c_3264_11eb_8229_0242ac1c0002row2_col1\" class=\"data row2 col1\" >0.149990</td>\n",
              "                        <td id=\"T_8cc6f09c_3264_11eb_8229_0242ac1c0002row2_col2\" class=\"data row2 col2\" >1.000000</td>\n",
              "                        <td id=\"T_8cc6f09c_3264_11eb_8229_0242ac1c0002row2_col3\" class=\"data row2 col3\" >0.310685</td>\n",
              "                        <td id=\"T_8cc6f09c_3264_11eb_8229_0242ac1c0002row2_col4\" class=\"data row2 col4\" >0.318424</td>\n",
              "                        <td id=\"T_8cc6f09c_3264_11eb_8229_0242ac1c0002row2_col5\" class=\"data row2 col5\" >-0.147692</td>\n",
              "            </tr>\n",
              "            <tr>\n",
              "                        <th id=\"T_8cc6f09c_3264_11eb_8229_0242ac1c0002level0_row3\" class=\"row_heading level0 row3\" >temp</th>\n",
              "                        <td id=\"T_8cc6f09c_3264_11eb_8229_0242ac1c0002row3_col0\" class=\"data row3 col0\" >0.408528</td>\n",
              "                        <td id=\"T_8cc6f09c_3264_11eb_8229_0242ac1c0002row3_col1\" class=\"data row3 col1\" >-0.066523</td>\n",
              "                        <td id=\"T_8cc6f09c_3264_11eb_8229_0242ac1c0002row3_col2\" class=\"data row3 col2\" >0.310685</td>\n",
              "                        <td id=\"T_8cc6f09c_3264_11eb_8229_0242ac1c0002row3_col3\" class=\"data row3 col3\" >1.000000</td>\n",
              "                        <td id=\"T_8cc6f09c_3264_11eb_8229_0242ac1c0002row3_col4\" class=\"data row3 col4\" >0.987693</td>\n",
              "                        <td id=\"T_8cc6f09c_3264_11eb_8229_0242ac1c0002row3_col5\" class=\"data row3 col5\" >-0.015241</td>\n",
              "            </tr>\n",
              "            <tr>\n",
              "                        <th id=\"T_8cc6f09c_3264_11eb_8229_0242ac1c0002level0_row4\" class=\"row_heading level0 row4\" >atemp</th>\n",
              "                        <td id=\"T_8cc6f09c_3264_11eb_8229_0242ac1c0002row4_col0\" class=\"data row4 col0\" >0.404709</td>\n",
              "                        <td id=\"T_8cc6f09c_3264_11eb_8229_0242ac1c0002row4_col1\" class=\"data row4 col1\" >-0.052469</td>\n",
              "                        <td id=\"T_8cc6f09c_3264_11eb_8229_0242ac1c0002row4_col2\" class=\"data row4 col2\" >0.318424</td>\n",
              "                        <td id=\"T_8cc6f09c_3264_11eb_8229_0242ac1c0002row4_col3\" class=\"data row4 col3\" >0.987693</td>\n",
              "                        <td id=\"T_8cc6f09c_3264_11eb_8229_0242ac1c0002row4_col4\" class=\"data row4 col4\" >1.000000</td>\n",
              "                        <td id=\"T_8cc6f09c_3264_11eb_8229_0242ac1c0002row4_col5\" class=\"data row4 col5\" >-0.056203</td>\n",
              "            </tr>\n",
              "            <tr>\n",
              "                        <th id=\"T_8cc6f09c_3264_11eb_8229_0242ac1c0002level0_row5\" class=\"row_heading level0 row5\" >windspeed</th>\n",
              "                        <td id=\"T_8cc6f09c_3264_11eb_8229_0242ac1c0002row5_col0\" class=\"data row5 col0\" >0.093503</td>\n",
              "                        <td id=\"T_8cc6f09c_3264_11eb_8229_0242ac1c0002row5_col1\" class=\"data row5 col1\" >-0.292366</td>\n",
              "                        <td id=\"T_8cc6f09c_3264_11eb_8229_0242ac1c0002row5_col2\" class=\"data row5 col2\" >-0.147692</td>\n",
              "                        <td id=\"T_8cc6f09c_3264_11eb_8229_0242ac1c0002row5_col3\" class=\"data row5 col3\" >-0.015241</td>\n",
              "                        <td id=\"T_8cc6f09c_3264_11eb_8229_0242ac1c0002row5_col4\" class=\"data row5 col4\" >-0.056203</td>\n",
              "                        <td id=\"T_8cc6f09c_3264_11eb_8229_0242ac1c0002row5_col5\" class=\"data row5 col5\" >1.000000</td>\n",
              "            </tr>\n",
              "    </tbody></table>"
            ],
            "text/plain": [
              "<pandas.io.formats.style.Styler at 0x7f3af045b438>"
            ]
          },
          "metadata": {
            "tags": []
          },
          "execution_count": 121
        }
      ]
    },
    {
      "cell_type": "code",
      "metadata": {
        "colab": {
          "base_uri": "https://localhost:8080/"
        },
        "id": "tCM9UI-z9V7_",
        "outputId": "60598ee1-77d1-4135-cd00-4a37b88fbeb5"
      },
      "source": [
        "#Preencha os valores nulos das colunas \"hum\",\"cnt\" e \"casual\" com os valores médios. Utilize as variáveis \"hum\" e \"casual\" como independentes e a \"cnt\" como dependente. Aplique uma regressão linear. Qual o valor de R2? Utilize as entradas como teste.\n",
        "dataframe.hum.fillna(dataframe.hum.mean(), inplace=True)\n",
        "dataframe.cnt.fillna(dataframe.cnt.mean(), inplace=True)\n",
        "dataframe.casual.fillna(dataframe.casual.mean(), inplace=True)\n",
        "\n",
        "x = dataframe[['hum', 'casual']].values\n",
        "y = dataframe.cnt.values\n",
        "\n",
        "from sklearn.linear_model import LinearRegression\n",
        "lreg = LinearRegression()\n",
        "lreg.fit(x, y)\n",
        "predict = lreg.predict(x)\n",
        "\n",
        "print(f'Y: {lreg.coef_} X: {lreg.intercept_}')"
      ],
      "execution_count": 122,
      "outputs": [
        {
          "output_type": "stream",
          "text": [
            "Y: [-99.75012328   2.21512197] X: 173.29337505135578\n"
          ],
          "name": "stdout"
        }
      ]
    },
    {
      "cell_type": "code",
      "metadata": {
        "colab": {
          "base_uri": "https://localhost:8080/"
        },
        "id": "id6WuuPRB2KT",
        "outputId": "b9e6d129-0533-4733-e706-2b64fdf7db99"
      },
      "source": [
        "from sklearn.metrics import r2_score\n",
        "r2 = r2_score(y, predict)\n",
        "print(f'R2: {r2}')"
      ],
      "execution_count": 123,
      "outputs": [
        {
          "output_type": "stream",
          "text": [
            "R2: 0.4059859251122173\n"
          ],
          "name": "stdout"
        }
      ]
    },
    {
      "cell_type": "code",
      "metadata": {
        "colab": {
          "base_uri": "https://localhost:8080/"
        },
        "id": "jSBHmTJdCFuI",
        "outputId": "b7cf7f7f-1f50-4495-a982-851988eb8be3"
      },
      "source": [
        "#Utilize os mesmos dados da questão anterior (\"hum\" e \"casual\" como variáveis independentes e \"cnt\" como variavel dependente). Aplique Árvore de Decisão como regressão. Qual é o valor aproximado de R2? Utilize as entradas como teste e valores \"default\".\n",
        "#Aplique Árvore de Decisão como regressão\n",
        "from sklearn.tree import DecisionTreeRegressor\n",
        "treg = DecisionTreeRegressor()\n",
        "from sklearn.model_selection import train_test_split, cross_val_score\n",
        "xtrain, xtest, ytrain, ytest = train_test_split(x,y)\n",
        "cross_val_score(treg, x, y, cv=15)"
      ],
      "execution_count": 130,
      "outputs": [
        {
          "output_type": "execute_result",
          "data": {
            "text/plain": [
              "array([-1.45076062, -1.05055077, -0.02501152, -0.03310915, -0.00907291,\n",
              "       -0.03086813, -0.05138066, -0.16848999,  0.02830814,  0.19838215,\n",
              "        0.24488309,  0.21575132,  0.18884255,  0.22654318,  0.10664792])"
            ]
          },
          "metadata": {
            "tags": []
          },
          "execution_count": 130
        }
      ]
    },
    {
      "cell_type": "code",
      "metadata": {
        "colab": {
          "base_uri": "https://localhost:8080/"
        },
        "id": "j5fbu09rCfWi",
        "outputId": "01a6f88b-97d9-4f41-cc7a-65c03098fb6d"
      },
      "source": [
        "treg.fit(x,y)"
      ],
      "execution_count": 131,
      "outputs": [
        {
          "output_type": "execute_result",
          "data": {
            "text/plain": [
              "DecisionTreeRegressor(ccp_alpha=0.0, criterion='mse', max_depth=None,\n",
              "                      max_features=None, max_leaf_nodes=None,\n",
              "                      min_impurity_decrease=0.0, min_impurity_split=None,\n",
              "                      min_samples_leaf=1, min_samples_split=2,\n",
              "                      min_weight_fraction_leaf=0.0, presort='deprecated',\n",
              "                      random_state=None, splitter='best')"
            ]
          },
          "metadata": {
            "tags": []
          },
          "execution_count": 131
        }
      ]
    },
    {
      "cell_type": "code",
      "metadata": {
        "colab": {
          "base_uri": "https://localhost:8080/"
        },
        "id": "4EGq_hRuKX1B",
        "outputId": "5aeeba08-f3de-4cfe-d37a-8d44dcb4d742"
      },
      "source": [
        "#O valor obtido pela Árvore de Decisão como regressor apresenta maior R2.\n",
        "print(f'{treg.score(xtest, ytest)}')"
      ],
      "execution_count": 133,
      "outputs": [
        {
          "output_type": "stream",
          "text": [
            "0.7350850901329229\n"
          ],
          "name": "stdout"
        }
      ]
    },
    {
      "cell_type": "code",
      "metadata": {
        "colab": {
          "base_uri": "https://localhost:8080/"
        },
        "id": "dBixWP7oLA37",
        "outputId": "52c7db21-f02b-455b-977d-7d7eea3ffeef"
      },
      "source": [
        "#Comparando o SVM com a Árvore de Decisão é CORRETO afirmar:\n",
        "from sklearn.svm import SVR\n",
        "svr = SVR()\n",
        "svr.fit(x, y)"
      ],
      "execution_count": 134,
      "outputs": [
        {
          "output_type": "execute_result",
          "data": {
            "text/plain": [
              "SVR(C=1.0, cache_size=200, coef0=0.0, degree=3, epsilon=0.1, gamma='scale',\n",
              "    kernel='rbf', max_iter=-1, shrinking=True, tol=0.001, verbose=False)"
            ]
          },
          "metadata": {
            "tags": []
          },
          "execution_count": 134
        }
      ]
    },
    {
      "cell_type": "code",
      "metadata": {
        "id": "SRw07eibLQGQ"
      },
      "source": [
        "svr_predict= svr.predict(xtest)"
      ],
      "execution_count": 135,
      "outputs": []
    },
    {
      "cell_type": "code",
      "metadata": {
        "colab": {
          "base_uri": "https://localhost:8080/"
        },
        "id": "FQmF9hnWLV33",
        "outputId": "2e2f5f76-6a15-4f65-afd8-c99adb205707"
      },
      "source": [
        "print(\"SVM:\\t\\t\\t{:0.5f}\".format(svr.score(xtest, ytest))) \n",
        "print(\"Árvore de Decisão:\\t{:0.5f}\".format(treg.score(xtest, ytest))) "
      ],
      "execution_count": 136,
      "outputs": [
        {
          "output_type": "stream",
          "text": [
            "SVM:\t\t\t0.38942\n",
            "Árvore de Decisão:\t0.73509\n"
          ],
          "name": "stdout"
        }
      ]
    }
  ]
}